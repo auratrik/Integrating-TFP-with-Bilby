{
 "cells": [
  {
   "cell_type": "code",
   "execution_count": 1,
   "id": "27f7d6eb",
   "metadata": {},
   "outputs": [],
   "source": [
    "import numpy as np\n",
    "import pandas as pd\n",
    "\n",
    "import arviz as az\n",
    "import corner\n",
    "\n",
    "import matplotlib.pyplot as plt\n",
    "plt.style.use('seaborn-darkgrid')\n",
    "\n",
    "%matplotlib inline\n",
    "%config InlineBackend.figure_format = 'retina'"
   ]
  },
  {
   "cell_type": "code",
   "execution_count": 2,
   "id": "ca1f9a9a",
   "metadata": {
    "scrolled": false
   },
   "outputs": [
    {
     "name": "stderr",
     "output_type": "stream",
     "text": [
      "2022-06-02 17:21:18.027116: W tensorflow/stream_executor/platform/default/dso_loader.cc:64] Could not load dynamic library 'libcudart.so.11.0'; dlerror: libcudart.so.11.0: cannot open shared object file: No such file or directory\n",
      "2022-06-02 17:21:18.027131: I tensorflow/stream_executor/cuda/cudart_stub.cc:29] Ignore above cudart dlerror if you do not have a GPU set up on your machine.\n"
     ]
    }
   ],
   "source": [
    "import tensorflow.compat.v2 as tf\n",
    "import tensorflow_probability as tfp\n",
    "\n",
    "tf.enable_v2_behavior()\n",
    "\n",
    "tfd = tfp.distributions\n",
    "tfb = tfp.bijectors"
   ]
  },
  {
   "cell_type": "code",
   "execution_count": 3,
   "id": "19e61725",
   "metadata": {},
   "outputs": [],
   "source": [
    "import bilby\n",
    "\n",
    "from bilby.core.prior import Uniform\n",
    "from bilby.gw.conversion import convert_to_lal_binary_black_hole_parameters, generate_all_bbh_parameters\n",
    "\n",
    "from gwpy.timeseries import TimeSeries"
   ]
  },
  {
   "cell_type": "code",
   "execution_count": 4,
   "id": "0cc98460",
   "metadata": {},
   "outputs": [],
   "source": [
    "label = 'GW150914'\n",
    "time_of_event = bilby.gw.utils.get_event_time(label)"
   ]
  },
  {
   "cell_type": "code",
   "execution_count": 5,
   "id": "66012f86",
   "metadata": {},
   "outputs": [],
   "source": [
    "H1 = bilby.gw.detector.get_empty_interferometer(\"H1\")\n",
    "L1 = bilby.gw.detector.get_empty_interferometer(\"L1\")"
   ]
  },
  {
   "cell_type": "code",
   "execution_count": 6,
   "id": "cca2dc9b",
   "metadata": {},
   "outputs": [],
   "source": [
    "H1_data = TimeSeries.fetch_open_data(\"H1\", time_of_event, \n",
    "                                     time_of_event + 2,\n",
    "                                     sample_rate=4096, cache=True)\n",
    "\n",
    "L1_data = TimeSeries.fetch_open_data(\"L1\", time_of_event, \n",
    "                                     time_of_event + 2,\n",
    "                                     sample_rate=4096, cache=True)"
   ]
  },
  {
   "cell_type": "raw",
   "id": "db404524",
   "metadata": {},
   "source": [
    "H1_data.plot()"
   ]
  },
  {
   "cell_type": "raw",
   "id": "808b7b6b",
   "metadata": {},
   "source": [
    "H1.maximum_frequency = 1024\n",
    "L1.maximum_frequency = 1024"
   ]
  },
  {
   "cell_type": "code",
   "execution_count": 7,
   "id": "4c837bcb",
   "metadata": {},
   "outputs": [],
   "source": [
    "H1.set_strain_data_from_gwpy_timeseries(H1_data)\n",
    "L1.set_strain_data_from_gwpy_timeseries(L1_data)"
   ]
  },
  {
   "cell_type": "code",
   "execution_count": 8,
   "id": "cc18123e",
   "metadata": {},
   "outputs": [],
   "source": [
    "interferometers = [H1, L1]"
   ]
  },
  {
   "cell_type": "code",
   "execution_count": 9,
   "id": "c776f361",
   "metadata": {},
   "outputs": [],
   "source": [
    "prior = {}\n",
    "prior['mass_ratio'] = 0.977647\n",
    "prior['a_1'] =  0.0\n",
    "prior['a_2'] =  0.0\n",
    "prior['tilt_1'] =  0.0\n",
    "prior['tilt_2'] =  0.0\n",
    "prior['phi_12'] =  0.0\n",
    "prior['phi_jl'] =  0.0\n",
    "prior['dec'] =  -1.2232\n",
    "prior['ra'] =  2.19432\n",
    "prior['theta_jn'] =  1.89694\n",
    "prior['psi'] =  0.532268\n",
    "prior['luminosity_distance'] = 412.066\n",
    "prior['phase'] =  5.30408\n",
    "prior['geocent_time'] = 1126259462.4146729\n",
    "\n",
    "prior['chirp_mass'] = Uniform(\n",
    "    name='chirp_mass',\n",
    "    latex_label='$M$',\n",
    "    minimum=25.0,\n",
    "    maximum=35.0,\n",
    "    unit='$M_{\\\\odot}$')"
   ]
  },
  {
   "cell_type": "code",
   "execution_count": 10,
   "id": "70151cac",
   "metadata": {},
   "outputs": [
    {
     "name": "stderr",
     "output_type": "stream",
     "text": [
      "17:21 bilby INFO    : Waveform generator initiated with\n",
      "  frequency_domain_source_model: bilby.gw.source.lal_binary_black_hole\n",
      "  time_domain_source_model: None\n",
      "  parameter_conversion: bilby.gw.conversion.convert_to_lal_binary_black_hole_parameters\n"
     ]
    }
   ],
   "source": [
    "waveform_arguments = dict(waveform_approximant='IMRPhenomPv2',\n",
    "                          reference_frequency=100.)\n",
    "\n",
    "waveform_generator = bilby.gw.WaveformGenerator(\n",
    "    frequency_domain_source_model=bilby.gw.source.lal_binary_black_hole,\n",
    "    waveform_arguments=waveform_arguments,\n",
    "    parameter_conversion=convert_to_lal_binary_black_hole_parameters)"
   ]
  },
  {
   "cell_type": "code",
   "execution_count": 11,
   "id": "e3456583",
   "metadata": {},
   "outputs": [],
   "source": [
    "likelihood = bilby.gw.likelihood.GravitationalWaveTransient(\n",
    "    interferometers,\n",
    "    waveform_generator,\n",
    "    priors=prior)"
   ]
  },
  {
   "cell_type": "code",
   "execution_count": 12,
   "id": "141aade7",
   "metadata": {},
   "outputs": [
    {
     "name": "stderr",
     "output_type": "stream",
     "text": [
      "17:21 bilby INFO    : Running for label 'GW150914', output will be saved to 'short_mc_only'\n",
      "17:21 bilby INFO    : Using lal version 7.1.6\n",
      "17:21 bilby INFO    : Using lal git version Branch: None;Tag: lal-v7.1.6;Id: 4f664fffa723bbbe3610d9b29555ee8dc903ab97;;Builder: Adam Mercer <adam.mercer@ligo.org>;Repository status: CLEAN: All modifications committed\n",
      "17:21 bilby INFO    : Using lalsimulation version 3.1.1\n",
      "17:21 bilby INFO    : Using lalsimulation git version Branch: None;Tag: lalsimulation-v3.1.1;Id: 9eff85db5692ef91b1db038801d68a1f3d13d89b;;Builder: Adam Mercer <adam.mercer@ligo.org>;Repository status: CLEAN: All modifications committed\n",
      "17:21 bilby INFO    : Search parameters:\n",
      "17:21 bilby INFO    :   chirp_mass = Uniform(minimum=25.0, maximum=35.0, name='chirp_mass', latex_label='$M$', unit='$M_{\\\\odot}$', boundary=None)\n",
      "17:21 bilby INFO    :   mass_ratio = 0.977647\n",
      "17:21 bilby INFO    :   a_1 = 0.0\n",
      "17:21 bilby INFO    :   a_2 = 0.0\n",
      "17:21 bilby INFO    :   tilt_1 = 0.0\n",
      "17:21 bilby INFO    :   tilt_2 = 0.0\n",
      "17:21 bilby INFO    :   phi_12 = 0.0\n",
      "17:21 bilby INFO    :   phi_jl = 0.0\n",
      "17:21 bilby INFO    :   dec = -1.2232\n",
      "17:21 bilby INFO    :   ra = 2.19432\n",
      "17:21 bilby INFO    :   theta_jn = 1.89694\n",
      "17:21 bilby INFO    :   psi = 0.532268\n",
      "17:21 bilby INFO    :   luminosity_distance = 412.066\n",
      "17:21 bilby INFO    :   phase = 5.30408\n",
      "17:21 bilby INFO    :   geocent_time = 1126259462.4146729\n",
      "17:21 bilby INFO    : Generating frequency domain strain from given time domain strain.\n",
      "17:21 bilby INFO    : Applying a tukey window with alpha=0.2, roll off=0.2\n",
      "17:21 bilby INFO    : Generating frequency domain strain from given time domain strain.\n",
      "17:21 bilby INFO    : Applying a tukey window with alpha=0.2, roll off=0.2\n",
      "17:21 bilby INFO    : Single likelihood evaluation took 2.066e-03 s\n",
      "/home/auratrik/Anaconda33/envs/igwn-py39-lw/lib/python3.9/site-packages/tqdm/auto.py:22: TqdmWarning: IProgress not found. Please update jupyter and ipywidgets. See https://ipywidgets.readthedocs.io/en/stable/user_install.html\n",
      "  from .autonotebook import tqdm as notebook_tqdm\n"
     ]
    },
    {
     "name": "stdout",
     "output_type": "stream",
     "text": [
      "0it [00:00, ?it/s]"
     ]
    },
    {
     "name": "stderr",
     "output_type": "stream",
     "text": [
      "17:21 bilby INFO    : Checkpoint every check_point_delta_t = 600s\n",
      "17:21 bilby WARNING : Using cached result\n",
      "17:21 bilby INFO    : Summary of results:\n",
      "nsamples: 422\n",
      "ln_noise_evidence: -153550636.822\n",
      "ln_evidence: -153550545.303 +/-  0.413\n",
      "ln_bayes_factor: 91.519 +/-  0.413\n",
      "\n"
     ]
    }
   ],
   "source": [
    "result_mc = bilby.run_sampler(likelihood,\n",
    "                              prior,\n",
    "                              sampler='dynesty',\n",
    "                              outdir='short_mc_only',\n",
    "                              walks=5,\n",
    "                              nlive=50,\n",
    "                              label=label)"
   ]
  },
  {
   "cell_type": "code",
   "execution_count": 13,
   "id": "2a42fec7",
   "metadata": {},
   "outputs": [],
   "source": [
    "#H1.frequency_array\n"
   ]
  },
  {
   "cell_type": "code",
   "execution_count": 14,
   "id": "a380cba5",
   "metadata": {},
   "outputs": [
    {
     "name": "stderr",
     "output_type": "stream",
     "text": [
      "2022-06-02 17:21:38.782646: E tensorflow/stream_executor/cuda/cuda_driver.cc:271] failed call to cuInit: CUDA_ERROR_NO_DEVICE: no CUDA-capable device is detected\n",
      "2022-06-02 17:21:38.782662: I tensorflow/stream_executor/cuda/cuda_diagnostics.cc:156] kernel driver does not appear to be running on this host (auratrik-Lenovo-Legion-5-15IMH05): /proc/driver/nvidia/version does not exist\n",
      "2022-06-02 17:21:38.783013: I tensorflow/core/platform/cpu_feature_guard.cc:193] This TensorFlow binary is optimized with oneAPI Deep Neural Network Library (oneDNN) to use the following CPU instructions in performance-critical operations:  AVX2 FMA\n",
      "To enable them in other operations, rebuild TensorFlow with the appropriate compiler flags.\n"
     ]
    },
    {
     "data": {
      "image/png": "[encoded data removed]",
      "text/plain": [
       "<Figure size 432x288 with 1 Axes>"
      ]
     },
     "metadata": {
      "image/png": {
       "height": 246,
       "width": 383
      },
      "needs_background": "light"
     },
     "output_type": "display_data"
    }
   ],
   "source": [
    "ndim = 3\n",
    "nsample, nchain = 500, 5\n",
    "\n",
    "#def target_log_prob(x):\n",
    "#  return -2. * tf.reduce_sum((x - np.arange(ndim)) ** 2, axis=-1)\n",
    "\n",
    "#def target_log_prob(x):\n",
    "#    mean, var= tf.nn.moments(x, axes = [0, 1], keepdims = True)\n",
    "#    return -tf.reduce_sum(((2*np.pi*var)**(-0.5))*np.exp((-(x - mean)**2)/(2*var)))\n",
    "\n",
    "def target_log_prob(x):\n",
    "    mean, var= tf.nn.moments(x, axes = [0, 1], keepdims = True)\n",
    "    LN2PI = np.log(2.*np.pi)\n",
    "    #LNSIGMA = np.log(var)\n",
    "\n",
    "    # normalisation\n",
    "    norm = -0.5*LN2PI# - LNSIGMA\n",
    "\n",
    "    chisq = tf.reduce_sum(((2*np.pi*var)**(-0.5))*np.exp((-(x - mean)**2)/(2*var)))\n",
    "\n",
    "    return norm - 0.5*chisq\n",
    "\n",
    "hmc_kernel = tfp.mcmc.HamiltonianMonteCarlo(\n",
    "    target_log_prob_fn=target_log_prob,\n",
    "    num_leapfrog_steps=3,\n",
    "    step_size=.25)\n",
    "\n",
    "samples, is_accepted = tfp.mcmc.sample_chain(\n",
    "    kernel=hmc_kernel,\n",
    "    num_results=nsample,\n",
    "    num_burnin_steps=50,\n",
    "    trace_fn=lambda _, pkr: pkr.is_accepted,\n",
    "    current_state=tf.zeros([nchain, ndim]))\n",
    "\n",
    "for i in range(ndim):\n",
    "  plt.plot(samples[..., i], alpha=.25, color=f'C{i}');"
   ]
  },
  {
   "cell_type": "raw",
   "id": "613c1ccf",
   "metadata": {},
   "source": [
    "# def target_log_prob(x1, x2, x3):\n",
    "  pass"
   ]
  },
  {
   "cell_type": "code",
   "execution_count": 15,
   "id": "5e44386a",
   "metadata": {},
   "outputs": [
    {
     "name": "stderr",
     "output_type": "stream",
     "text": [
      "17:21 bilby INFO    : Search parameters:\n",
      "17:21 bilby INFO    :   chirp_mass = Uniform(minimum=25.0, maximum=35.0, name='chirp_mass', latex_label='$M$', unit='$M_{\\\\odot}$', boundary=None)\n",
      "17:21 bilby INFO    :   mass_ratio = 0.977647\n",
      "17:21 bilby INFO    :   a_1 = 0.0\n",
      "17:21 bilby INFO    :   a_2 = 0.0\n",
      "17:21 bilby INFO    :   tilt_1 = 0.0\n",
      "17:21 bilby INFO    :   tilt_2 = 0.0\n",
      "17:21 bilby INFO    :   phi_12 = 0.0\n",
      "17:21 bilby INFO    :   phi_jl = 0.0\n",
      "17:21 bilby INFO    :   dec = -1.2232\n",
      "17:21 bilby INFO    :   ra = 2.19432\n",
      "17:21 bilby INFO    :   theta_jn = 1.89694\n",
      "17:21 bilby INFO    :   psi = 0.532268\n",
      "17:21 bilby INFO    :   luminosity_distance = 412.066\n",
      "17:21 bilby INFO    :   phase = 5.30408\n",
      "17:21 bilby INFO    :   geocent_time = 1126259462.4146729\n",
      "17:21 bilby INFO    : Single likelihood evaluation took 2.114e-03 s\n",
      "17:21 bilby INFO    : Using sampler Emcee with kwargs {'nwalkers': 500, 'a': 2, 'args': [], 'kwargs': {}, 'postargs': None, 'pool': None, 'live_dangerously': False, 'runtime_sortingfn': None, 'lnprob0': None, 'rstate0': None, 'blobs0': None, 'iterations': 100, 'thin': 1, 'storechain': True, 'mh_proposal': None}\n"
     ]
    }
   ],
   "source": [
    "sampler = bilby.sampler.Emcee(likelihood, prior)"
   ]
  },
  {
   "cell_type": "code",
   "execution_count": 16,
   "id": "635e4d5f",
   "metadata": {},
   "outputs": [
    {
     "data": {
      "text/plain": [
       "(['chirp_mass'], False)"
      ]
     },
     "execution_count": 16,
     "metadata": {},
     "output_type": "execute_result"
    }
   ],
   "source": [
    "sampler.search_parameter_keys, sampler.use_ratio"
   ]
  },
  {
   "cell_type": "code",
   "execution_count": 17,
   "id": "62a15988",
   "metadata": {},
   "outputs": [
    {
     "data": {
      "text/plain": [
       "{'mass_ratio': 0.977647,\n",
       " 'a_1': 0.0,\n",
       " 'a_2': 0.0,\n",
       " 'tilt_1': 0.0,\n",
       " 'tilt_2': 0.0,\n",
       " 'phi_12': 0.0,\n",
       " 'phi_jl': 0.0,\n",
       " 'dec': -1.2232,\n",
       " 'ra': 2.19432,\n",
       " 'theta_jn': 1.89694,\n",
       " 'psi': 0.532268,\n",
       " 'luminosity_distance': 412.066,\n",
       " 'phase': 5.30408,\n",
       " 'geocent_time': 1126259462.4146729,\n",
       " 'chirp_mass': 33.26179822677778}"
      ]
     },
     "execution_count": 17,
     "metadata": {},
     "output_type": "execute_result"
    }
   ],
   "source": [
    "likelihood.parameters"
   ]
  },
  {
   "cell_type": "code",
   "execution_count": 18,
   "id": "a59cf494",
   "metadata": {},
   "outputs": [],
   "source": [
    "test_value = 30.\n",
    "\n",
    "likelihood.parameters.update({'chirp_mass':test_value})\n",
    "assert likelihood.log_likelihood() == sampler.log_likelihood([test_value])"
   ]
  },
  {
   "cell_type": "code",
   "execution_count": 19,
   "id": "5ef6bc38",
   "metadata": {},
   "outputs": [
    {
     "data": {
      "text/plain": [
       "-153552775.6428238"
      ]
     },
     "execution_count": 19,
     "metadata": {},
     "output_type": "execute_result"
    }
   ],
   "source": [
    "likelihood.log_likelihood()"
   ]
  },
  {
   "cell_type": "code",
   "execution_count": 20,
   "id": "b1420c25",
   "metadata": {},
   "outputs": [],
   "source": [
    "chirp_mass_prior = tfd.Uniform(25., 35.)\n",
    "model_logprob = lambda x: target_log_prob(x) + chirp_mass_prior.log_prob(x)\n",
    "init_state = chirp_mass_prior.sample()"
   ]
  },
  {
   "cell_type": "code",
   "execution_count": 21,
   "id": "84b050d6",
   "metadata": {},
   "outputs": [],
   "source": [
    "rwmcmc_kernel = tfp.mcmc.RandomWalkMetropolis(\n",
    "    model_logprob,\n",
    ")"
   ]
  },
  {
   "cell_type": "code",
   "execution_count": 22,
   "id": "5eabdea9",
   "metadata": {},
   "outputs": [],
   "source": [
    "def run_sampler(self):\n",
    "        import dynesty\n",
    "        import dill\n",
    "        logger.info(\"Using dynesty version {}\".format(dynesty.__version__))\n",
    "\n",
    "        if self.kwargs.get(\"sample\", \"rwalk\") == \"rwalk\":\n",
    "            logger.info(\n",
    "                \"Using the bilby-implemented rwalk sample method with ACT estimated walks\")\n",
    "            dynesty.dynesty._SAMPLING[\"rwalk\"] = sample_rwalk_bilby\n",
    "            dynesty.nestedsamplers._SAMPLING[\"rwalk\"] = sample_rwalk_bilby\n",
    "            if self.kwargs.get(\"walks\") > self.kwargs.get(\"maxmcmc\"):\n",
    "                raise DynestySetupError(\"You have maxmcmc > walks (minimum mcmc)\")\n",
    "            if self.kwargs.get(\"nact\", 5) < 1:\n",
    "                raise DynestySetupError(\"Unable to run with nact < 1\")\n",
    "        elif self.kwargs.get(\"sample\") == \"rwalk_dynesty\":\n",
    "            self._kwargs[\"sample\"] = \"rwalk\"\n",
    "            logger.info(\n",
    "                \"Using the dynesty-implemented rwalk sample method\")\n",
    "        elif self.kwargs.get(\"sample\") == \"rstagger_dynesty\":\n",
    "            self._kwargs[\"sample\"] = \"rstagger\"\n",
    "            logger.info(\n",
    "                \"Using the dynesty-implemented rstagger sample method\")\n",
    "\n",
    "        self._setup_pool()\n",
    "\n",
    "        if self.resume:\n",
    "            self.resume = self.read_saved_state(continuing=True)\n",
    "\n",
    "        if self.resume:\n",
    "            logger.info('Resume filbe successfully loaded.')\n",
    "        else:\n",
    "            if self.kwargs['live_points'] is None:\n",
    "                self.kwargs['live_points'] = (\n",
    "                    self.get_initial_points_from_prior(self.kwargs['nlive'])\n",
    "                )\n",
    "            self.sampler = dynesty.NestedSampler(\n",
    "                loglikelihood=_log_likelihood_wrapper,\n",
    "                prior_transform=_prior_transform_wrapper,\n",
    "                ndim=self.ndim, **self.sampler_init_kwargs\n",
    "            )\n",
    "\n",
    "        if self.check_point:\n",
    "            out = self._run_external_sampler_with_checkpointing()\n",
    "        else:\n",
    "            out = self._run_external_sampler_without_checkpointing()\n",
    "\n",
    "        self._close_pool()\n",
    "\n",
    "        # Flushes the output to force a line break\n",
    "        if self.kwargs[\"print_progress\"] and self.kwargs[\"print_method\"] == \"tqdm\":\n",
    "            self.pbar.close()\n",
    "            print(\"\")\n",
    "\n",
    "        check_directory_exists_and_if_not_mkdir(self.outdir)\n",
    "\n",
    "        if self.nestcheck:\n",
    "            self.nestcheck_data(out)\n",
    "\n",
    "        dynesty_result = \"{}/{}_dynesty.pickle\".format(self.outdir, self.label)\n",
    "        with open(dynesty_result, 'wb') as file:\n",
    "            dill.dump(out, file)\n",
    "\n",
    "        self._generate_result(out)\n",
    "        self.result.sampling_time = self.sampling_time\n",
    "\n",
    "        if self.plot:\n",
    "            self.generate_trace_plots(out)\n",
    "\n",
    "        return self.result"
   ]
  },
  {
   "cell_type": "code",
   "execution_count": 23,
   "id": "5d245a20",
   "metadata": {},
   "outputs": [],
   "source": [
    "def loglikelihood_dynesty(theta):\n",
    "    \"\"\"\n",
    "    The log-likelihood function.\n",
    "    \"\"\"\n",
    "    LN2PI = np.log(2.*np.pi)\n",
    "    LNSIGMA = np.log(sigma)\n",
    "    \n",
    "    m, c = theta # unpack the parameters\n",
    "\n",
    "    # normalisation\n",
    "    norm = -0.5*M*LN2PI - M*LNSIGMA\n",
    "\n",
    "    # chi-squared (data, sigma and x are global variables defined early on in this notebook)\n",
    "    chisq = np.sum(((data-straight_line(x, m, c))/sigma)**2)\n",
    "\n",
    "    return norm - 0.5*chisq"
   ]
  }
 ],
 "metadata": {
  "kernelspec": {
   "display_name": "Python igwn",
   "language": "python",
   "name": "igwn-py39-lw"
  },
  "language_info": {
   "codemirror_mode": {
    "name": "ipython",
    "version": 3
   },
   "file_extension": ".py",
   "mimetype": "text/x-python",
   "name": "python",
   "nbconvert_exporter": "python",
   "pygments_lexer": "ipython3",
   "version": "3.9.10"
  }
 },
 "nbformat": 4,
 "nbformat_minor": 5
}
