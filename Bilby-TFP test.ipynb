{
 "cells": [
  {
   "cell_type": "code",
   "execution_count": 1,
   "id": "27f7d6eb",
   "metadata": {},
   "outputs": [],
   "source": [
    "import numpy as np\n",
    "import pandas as pd\n",
    "\n",
    "import arviz as az\n",
    "import corner\n",
    "\n",
    "import matplotlib.pyplot as plt\n",
    "plt.style.use('seaborn-darkgrid')\n",
    "\n",
    "%matplotlib inline\n",
    "%config InlineBackend.figure_format = 'retina'"
   ]
  },
  {
   "cell_type": "code",
   "execution_count": 2,
   "id": "ca1f9a9a",
   "metadata": {},
   "outputs": [
    {
     "name": "stderr",
     "output_type": "stream",
     "text": [
      "2022-05-31 16:01:26.351211: W tensorflow/stream_executor/platform/default/dso_loader.cc:64] Could not load dynamic library 'libcudart.so.11.0'; dlerror: libcudart.so.11.0: cannot open shared object file: No such file or directory\n",
      "2022-05-31 16:01:26.351226: I tensorflow/stream_executor/cuda/cudart_stub.cc:29] Ignore above cudart dlerror if you do not have a GPU set up on your machine.\n"
     ]
    }
   ],
   "source": [
    "import tensorflow.compat.v2 as tf\n",
    "import tensorflow_probability as tfp\n",
    "\n",
    "tf.enable_v2_behavior()\n",
    "\n",
    "tfd = tfp.distributions\n",
    "tfb = tfp.bijectors"
   ]
  },
  {
   "cell_type": "code",
   "execution_count": 3,
   "id": "19e61725",
   "metadata": {},
   "outputs": [],
   "source": [
    "import bilby\n",
    "\n",
    "from bilby.core.prior import Uniform\n",
    "from bilby.gw.conversion import convert_to_lal_binary_black_hole_parameters, generate_all_bbh_parameters\n",
    "\n",
    "from gwpy.timeseries import TimeSeries"
   ]
  },
  {
   "cell_type": "code",
   "execution_count": 4,
   "id": "0cc98460",
   "metadata": {},
   "outputs": [],
   "source": [
    "label = 'GW150914'\n",
    "time_of_event = bilby.gw.utils.get_event_time(label)"
   ]
  },
  {
   "cell_type": "code",
   "execution_count": 5,
   "id": "66012f86",
   "metadata": {},
   "outputs": [],
   "source": [
    "H1 = bilby.gw.detector.get_empty_interferometer(\"H1\")\n",
    "L1 = bilby.gw.detector.get_empty_interferometer(\"L1\")"
   ]
  },
  {
   "cell_type": "code",
   "execution_count": 6,
   "id": "cca2dc9b",
   "metadata": {},
   "outputs": [],
   "source": [
    "H1_data = TimeSeries.fetch_open_data(\"H1\", time_of_event, \n",
    "                                     time_of_event + 2,\n",
    "                                     sample_rate=4096, cache=True)\n",
    "\n",
    "L1_data = TimeSeries.fetch_open_data(\"L1\", time_of_event, \n",
    "                                     time_of_event + 2,\n",
    "                                     sample_rate=4096, cache=True)"
   ]
  },
  {
   "cell_type": "raw",
   "id": "db404524",
   "metadata": {},
   "source": [
    "H1_data.plot()"
   ]
  },
  {
   "cell_type": "raw",
   "id": "808b7b6b",
   "metadata": {},
   "source": [
    "H1.maximum_frequency = 1024\n",
    "L1.maximum_frequency = 1024"
   ]
  },
  {
   "cell_type": "code",
   "execution_count": 7,
   "id": "4c837bcb",
   "metadata": {},
   "outputs": [],
   "source": [
    "H1.set_strain_data_from_gwpy_timeseries(H1_data)\n",
    "L1.set_strain_data_from_gwpy_timeseries(L1_data)"
   ]
  },
  {
   "cell_type": "code",
   "execution_count": 8,
   "id": "cc18123e",
   "metadata": {},
   "outputs": [],
   "source": [
    "interferometers = [H1, L1]"
   ]
  },
  {
   "cell_type": "code",
   "execution_count": 9,
   "id": "c776f361",
   "metadata": {},
   "outputs": [],
   "source": [
    "prior = {}\n",
    "prior['mass_ratio'] = 0.977647\n",
    "prior['a_1'] =  0.0\n",
    "prior['a_2'] =  0.0\n",
    "prior['tilt_1'] =  0.0\n",
    "prior['tilt_2'] =  0.0\n",
    "prior['phi_12'] =  0.0\n",
    "prior['phi_jl'] =  0.0\n",
    "prior['dec'] =  -1.2232\n",
    "prior['ra'] =  2.19432\n",
    "prior['theta_jn'] =  1.89694\n",
    "prior['psi'] =  0.532268\n",
    "prior['luminosity_distance'] = 412.066\n",
    "prior['phase'] =  5.30408\n",
    "prior['geocent_time'] = 1126259462.4146729\n",
    "\n",
    "prior['chirp_mass'] = Uniform(\n",
    "    name='chirp_mass',\n",
    "    latex_label='$M$',\n",
    "    minimum=25.0,\n",
    "    maximum=35.0,\n",
    "    unit='$M_{\\\\odot}$')"
   ]
  },
  {
   "cell_type": "code",
   "execution_count": 10,
   "id": "70151cac",
   "metadata": {},
   "outputs": [
    {
     "name": "stderr",
     "output_type": "stream",
     "text": [
      "16:01 bilby INFO    : Waveform generator initiated with\n",
      "  frequency_domain_source_model: bilby.gw.source.lal_binary_black_hole\n",
      "  time_domain_source_model: None\n",
      "  parameter_conversion: bilby.gw.conversion.convert_to_lal_binary_black_hole_parameters\n"
     ]
    }
   ],
   "source": [
    "waveform_arguments = dict(waveform_approximant='IMRPhenomPv2',\n",
    "                          reference_frequency=100.)\n",
    "\n",
    "waveform_generator = bilby.gw.WaveformGenerator(\n",
    "    frequency_domain_source_model=bilby.gw.source.lal_binary_black_hole,\n",
    "    waveform_arguments=waveform_arguments,\n",
    "    parameter_conversion=convert_to_lal_binary_black_hole_parameters)"
   ]
  },
  {
   "cell_type": "code",
   "execution_count": 11,
   "id": "e3456583",
   "metadata": {},
   "outputs": [],
   "source": [
    "likelihood = bilby.gw.likelihood.GravitationalWaveTransient(\n",
    "    interferometers,\n",
    "    waveform_generator,\n",
    "    priors=prior)"
   ]
  },
  {
   "cell_type": "code",
   "execution_count": 12,
   "id": "141aade7",
   "metadata": {},
   "outputs": [
    {
     "name": "stderr",
     "output_type": "stream",
     "text": [
      "16:01 bilby INFO    : Running for label 'GW150914', output will be saved to 'short_mc_only'\n",
      "16:01 bilby INFO    : Using lal version 7.1.6\n",
      "16:01 bilby INFO    : Using lal git version Branch: None;Tag: lal-v7.1.6;Id: 4f664fffa723bbbe3610d9b29555ee8dc903ab97;;Builder: Adam Mercer <adam.mercer@ligo.org>;Repository status: CLEAN: All modifications committed\n",
      "16:01 bilby INFO    : Using lalsimulation version 3.1.1\n",
      "16:01 bilby INFO    : Using lalsimulation git version Branch: None;Tag: lalsimulation-v3.1.1;Id: 9eff85db5692ef91b1db038801d68a1f3d13d89b;;Builder: Adam Mercer <adam.mercer@ligo.org>;Repository status: CLEAN: All modifications committed\n",
      "16:01 bilby INFO    : Search parameters:\n",
      "16:01 bilby INFO    :   chirp_mass = Uniform(minimum=25.0, maximum=35.0, name='chirp_mass', latex_label='$M$', unit='$M_{\\\\odot}$', boundary=None)\n",
      "16:01 bilby INFO    :   mass_ratio = 0.977647\n",
      "16:01 bilby INFO    :   a_1 = 0.0\n",
      "16:01 bilby INFO    :   a_2 = 0.0\n",
      "16:01 bilby INFO    :   tilt_1 = 0.0\n",
      "16:01 bilby INFO    :   tilt_2 = 0.0\n",
      "16:01 bilby INFO    :   phi_12 = 0.0\n",
      "16:01 bilby INFO    :   phi_jl = 0.0\n",
      "16:01 bilby INFO    :   dec = -1.2232\n",
      "16:01 bilby INFO    :   ra = 2.19432\n",
      "16:01 bilby INFO    :   theta_jn = 1.89694\n",
      "16:01 bilby INFO    :   psi = 0.532268\n",
      "16:01 bilby INFO    :   luminosity_distance = 412.066\n",
      "16:01 bilby INFO    :   phase = 5.30408\n",
      "16:01 bilby INFO    :   geocent_time = 1126259462.4146729\n",
      "16:01 bilby INFO    : Generating frequency domain strain from given time domain strain.\n",
      "16:01 bilby INFO    : Applying a tukey window with alpha=0.2, roll off=0.2\n",
      "16:01 bilby INFO    : Generating frequency domain strain from given time domain strain.\n",
      "16:01 bilby INFO    : Applying a tukey window with alpha=0.2, roll off=0.2\n",
      "16:01 bilby INFO    : Single likelihood evaluation took 1.911e-03 s\n",
      "/home/auratrik/Anaconda33/envs/igwn-py39-lw/lib/python3.9/site-packages/tqdm/auto.py:22: TqdmWarning: IProgress not found. Please update jupyter and ipywidgets. See https://ipywidgets.readthedocs.io/en/stable/user_install.html\n",
      "  from .autonotebook import tqdm as notebook_tqdm\n"
     ]
    },
    {
     "name": "stdout",
     "output_type": "stream",
     "text": [
      "0it [00:00, ?it/s]"
     ]
    },
    {
     "name": "stderr",
     "output_type": "stream",
     "text": [
      "16:01 bilby INFO    : Checkpoint every check_point_delta_t = 600s\n",
      "16:01 bilby WARNING : Using cached result\n",
      "16:01 bilby INFO    : Summary of results:\n",
      "nsamples: 422\n",
      "ln_noise_evidence: -153550636.822\n",
      "ln_evidence: -153550545.303 +/-  0.413\n",
      "ln_bayes_factor: 91.519 +/-  0.413\n",
      "\n"
     ]
    }
   ],
   "source": [
    "result_mc = bilby.run_sampler(likelihood,\n",
    "                              prior,\n",
    "                              sampler='dynesty',\n",
    "                              outdir='short_mc_only',\n",
    "                              walks=5,\n",
    "                              nlive=50,\n",
    "                              label=label)"
   ]
  },
  {
   "cell_type": "code",
   "execution_count": 13,
   "id": "2a42fec7",
   "metadata": {},
   "outputs": [],
   "source": [
    "#H1.frequency_array\n"
   ]
  },
  {
   "cell_type": "code",
   "execution_count": 36,
   "id": "a380cba5",
   "metadata": {},
   "outputs": [
    {
     "data": {
      "image/png": "[encoded data removed]",
      "text/plain": [
       "<Figure size 432x288 with 1 Axes>"
      ]
     },
     "metadata": {
      "image/png": {
       "height": 246,
       "width": 383
      },
      "needs_background": "light"
     },
     "output_type": "display_data"
    }
   ],
   "source": [
    "ndim = 3\n",
    "nsample, nchain = 500, 5\n",
    "\n",
    "#def target_log_prob(x):\n",
    "#  return -2. * tf.reduce_sum((x - np.arange(ndim)) ** 2, axis=-1)\n",
    "\n",
    "def target_log_prob(x):\n",
    "    mean, var= tf.nn.moments(x, axes = [0, 1], keepdims = True)\n",
    "    return -tf.reduce_sum(((2*np.pi*var)**(-0.5))*np.exp((-(x - mean)**2)/(2*var)))\n",
    "\n",
    "hmc_kernel = tfp.mcmc.HamiltonianMonteCarlo(\n",
    "    target_log_prob_fn=target_log_prob,\n",
    "    num_leapfrog_steps=3,\n",
    "    step_size=.25)\n",
    "\n",
    "samples, is_accepted = tfp.mcmc.sample_chain(\n",
    "    kernel=hmc_kernel,\n",
    "    num_results=nsample,\n",
    "    num_burnin_steps=50,\n",
    "    trace_fn=lambda _, pkr: pkr.is_accepted,\n",
    "    current_state=tf.zeros([nchain, ndim]))\n",
    "\n",
    "for i in range(ndim):\n",
    "  plt.plot(samples[..., i], alpha=.25, color=f'C{i}');"
   ]
  },
  {
   "cell_type": "raw",
   "id": "613c1ccf",
   "metadata": {},
   "source": [
    "# def target_log_prob(x1, x2, x3):\n",
    "  pass"
   ]
  },
  {
   "cell_type": "code",
   "execution_count": 37,
   "id": "5e44386a",
   "metadata": {},
   "outputs": [
    {
     "name": "stderr",
     "output_type": "stream",
     "text": [
      "16:36 bilby INFO    : Search parameters:\n",
      "16:36 bilby INFO    :   chirp_mass = Uniform(minimum=25.0, maximum=35.0, name='chirp_mass', latex_label='$M$', unit='$M_{\\\\odot}$', boundary=None)\n",
      "16:36 bilby INFO    :   mass_ratio = 0.977647\n",
      "16:36 bilby INFO    :   a_1 = 0.0\n",
      "16:36 bilby INFO    :   a_2 = 0.0\n",
      "16:36 bilby INFO    :   tilt_1 = 0.0\n",
      "16:36 bilby INFO    :   tilt_2 = 0.0\n",
      "16:36 bilby INFO    :   phi_12 = 0.0\n",
      "16:36 bilby INFO    :   phi_jl = 0.0\n",
      "16:36 bilby INFO    :   dec = -1.2232\n",
      "16:36 bilby INFO    :   ra = 2.19432\n",
      "16:36 bilby INFO    :   theta_jn = 1.89694\n",
      "16:36 bilby INFO    :   psi = 0.532268\n",
      "16:36 bilby INFO    :   luminosity_distance = 412.066\n",
      "16:36 bilby INFO    :   phase = 5.30408\n",
      "16:36 bilby INFO    :   geocent_time = 1126259462.4146729\n",
      "16:36 bilby INFO    : Single likelihood evaluation took 1.963e-03 s\n",
      "16:36 bilby INFO    : Using sampler Emcee with kwargs {'nwalkers': 500, 'a': 2, 'args': [], 'kwargs': {}, 'postargs': None, 'pool': None, 'live_dangerously': False, 'runtime_sortingfn': None, 'lnprob0': None, 'rstate0': None, 'blobs0': None, 'iterations': 100, 'thin': 1, 'storechain': True, 'mh_proposal': None}\n"
     ]
    }
   ],
   "source": [
    "sampler = bilby.sampler.Emcee(likelihood, prior)"
   ]
  },
  {
   "cell_type": "code",
   "execution_count": 38,
   "id": "635e4d5f",
   "metadata": {},
   "outputs": [
    {
     "data": {
      "text/plain": [
       "(['chirp_mass'], False)"
      ]
     },
     "execution_count": 38,
     "metadata": {},
     "output_type": "execute_result"
    }
   ],
   "source": [
    "sampler.search_parameter_keys, sampler.use_ratio"
   ]
  },
  {
   "cell_type": "code",
   "execution_count": 39,
   "id": "62a15988",
   "metadata": {},
   "outputs": [
    {
     "data": {
      "text/plain": [
       "{'mass_ratio': 0.977647,\n",
       " 'a_1': 0.0,\n",
       " 'a_2': 0.0,\n",
       " 'tilt_1': 0.0,\n",
       " 'tilt_2': 0.0,\n",
       " 'phi_12': 0.0,\n",
       " 'phi_jl': 0.0,\n",
       " 'dec': -1.2232,\n",
       " 'ra': 2.19432,\n",
       " 'theta_jn': 1.89694,\n",
       " 'psi': 0.532268,\n",
       " 'luminosity_distance': 412.066,\n",
       " 'phase': 5.30408,\n",
       " 'geocent_time': 1126259462.4146729,\n",
       " 'chirp_mass': 33.72121886546339}"
      ]
     },
     "execution_count": 39,
     "metadata": {},
     "output_type": "execute_result"
    }
   ],
   "source": [
    "likelihood.parameters"
   ]
  },
  {
   "cell_type": "code",
   "execution_count": 40,
   "id": "a59cf494",
   "metadata": {},
   "outputs": [],
   "source": [
    "test_value = 30.\n",
    "\n",
    "likelihood.parameters.update({'chirp_mass':test_value})\n",
    "assert likelihood.log_likelihood() == sampler.log_likelihood([test_value])"
   ]
  },
  {
   "cell_type": "code",
   "execution_count": 41,
   "id": "5ef6bc38",
   "metadata": {},
   "outputs": [
    {
     "data": {
      "text/plain": [
       "-153552775.6428238"
      ]
     },
     "execution_count": 41,
     "metadata": {},
     "output_type": "execute_result"
    }
   ],
   "source": [
    "likelihood.log_likelihood()"
   ]
  },
  {
   "cell_type": "code",
   "execution_count": 42,
   "id": "b1420c25",
   "metadata": {},
   "outputs": [],
   "source": [
    "chirp_mass_prior = tfd.Uniform(25., 35.)\n",
    "model_logprob = lambda x: target_log_prob(x) + chirp_mass_prior.log_prob(x)\n",
    "init_state = chirp_mass_prior.sample()"
   ]
  },
  {
   "cell_type": "code",
   "execution_count": 44,
   "id": "84b050d6",
   "metadata": {},
   "outputs": [],
   "source": [
    "rwmcmc_kernel = tfp.mcmc.RandomWalkMetropolis(\n",
    "    model_logprob,\n",
    ")"
   ]
  },
  {
   "cell_type": "code",
   "execution_count": 45,
   "id": "9f217ca8",
   "metadata": {},
   "outputs": [
    {
     "name": "stderr",
     "output_type": "stream",
     "text": [
      "2022-05-31 16:36:37.744150: W tensorflow/core/framework/op_kernel.cc:1745] OP_REQUIRES failed at reduction_ops_common.h:147 : INVALID_ARGUMENT: Invalid reduction dimension (0 for input with 0 dimension(s)\n"
     ]
    },
    {
     "ename": "InvalidArgumentError",
     "evalue": "Invalid reduction dimension (0 for input with 0 dimension(s) [Op:Mean]",
     "output_type": "error",
     "traceback": [
      "\u001b[0;31m---------------------------------------------------------------------------\u001b[0m",
      "\u001b[0;31mInvalidArgumentError\u001b[0m                      Traceback (most recent call last)",
      "File \u001b[0;32m<timed exec>:1\u001b[0m, in \u001b[0;36m<module>\u001b[0;34m\u001b[0m\n",
      "File \u001b[0;32m~/Anaconda33/envs/igwn-py39-lw/lib/python3.9/site-packages/tensorflow_probability/python/mcmc/sample.py:330\u001b[0m, in \u001b[0;36msample_chain\u001b[0;34m(num_results, current_state, previous_kernel_results, kernel, num_burnin_steps, num_steps_between_results, trace_fn, return_final_kernel_results, parallel_iterations, seed, name)\u001b[0m\n\u001b[1;32m    326\u001b[0m current_state \u001b[38;5;241m=\u001b[39m tf\u001b[38;5;241m.\u001b[39mnest\u001b[38;5;241m.\u001b[39mmap_structure(\n\u001b[1;32m    327\u001b[0m     \u001b[38;5;28;01mlambda\u001b[39;00m x: tf\u001b[38;5;241m.\u001b[39mconvert_to_tensor(x, name\u001b[38;5;241m=\u001b[39m\u001b[38;5;124m'\u001b[39m\u001b[38;5;124mcurrent_state\u001b[39m\u001b[38;5;124m'\u001b[39m),\n\u001b[1;32m    328\u001b[0m     current_state)\n\u001b[1;32m    329\u001b[0m \u001b[38;5;28;01mif\u001b[39;00m previous_kernel_results \u001b[38;5;129;01mis\u001b[39;00m \u001b[38;5;28;01mNone\u001b[39;00m:\n\u001b[0;32m--> 330\u001b[0m   previous_kernel_results \u001b[38;5;241m=\u001b[39m \u001b[43mkernel\u001b[49m\u001b[38;5;241;43m.\u001b[39;49m\u001b[43mbootstrap_results\u001b[49m\u001b[43m(\u001b[49m\u001b[43mcurrent_state\u001b[49m\u001b[43m)\u001b[49m\n\u001b[1;32m    332\u001b[0m \u001b[38;5;28;01mif\u001b[39;00m trace_fn \u001b[38;5;129;01mis\u001b[39;00m \u001b[38;5;28;01mNone\u001b[39;00m:\n\u001b[1;32m    333\u001b[0m   \u001b[38;5;66;03m# It simplifies the logic to use a dummy function here.\u001b[39;00m\n\u001b[1;32m    334\u001b[0m   trace_fn \u001b[38;5;241m=\u001b[39m \u001b[38;5;28;01mlambda\u001b[39;00m \u001b[38;5;241m*\u001b[39margs: ()\n",
      "File \u001b[0;32m~/Anaconda33/envs/igwn-py39-lw/lib/python3.9/site-packages/tensorflow_probability/python/mcmc/random_walk_metropolis.py:432\u001b[0m, in \u001b[0;36mRandomWalkMetropolis.bootstrap_results\u001b[0;34m(self, init_state)\u001b[0m\n\u001b[1;32m    430\u001b[0m \u001b[38;5;28;01mdef\u001b[39;00m \u001b[38;5;21mbootstrap_results\u001b[39m(\u001b[38;5;28mself\u001b[39m, init_state):\n\u001b[1;32m    431\u001b[0m   \u001b[38;5;124;03m\"\"\"Creates initial `previous_kernel_results` using a supplied `state`.\"\"\"\u001b[39;00m\n\u001b[0;32m--> 432\u001b[0m   \u001b[38;5;28;01mreturn\u001b[39;00m \u001b[38;5;28;43mself\u001b[39;49m\u001b[38;5;241;43m.\u001b[39;49m\u001b[43m_impl\u001b[49m\u001b[38;5;241;43m.\u001b[39;49m\u001b[43mbootstrap_results\u001b[49m\u001b[43m(\u001b[49m\u001b[43minit_state\u001b[49m\u001b[43m)\u001b[49m\n",
      "File \u001b[0;32m~/Anaconda33/envs/igwn-py39-lw/lib/python3.9/site-packages/tensorflow_probability/python/mcmc/metropolis_hastings.py:273\u001b[0m, in \u001b[0;36mMetropolisHastings.bootstrap_results\u001b[0;34m(self, init_state)\u001b[0m\n\u001b[1;32m    257\u001b[0m \u001b[38;5;124;03m\"\"\"Returns an object with the same type as returned by `one_step`.\u001b[39;00m\n\u001b[1;32m    258\u001b[0m \n\u001b[1;32m    259\u001b[0m \u001b[38;5;124;03mArgs:\u001b[39;00m\n\u001b[0;32m   (...)\u001b[0m\n\u001b[1;32m    269\u001b[0m \u001b[38;5;124;03m    \"target_log_prob\".\u001b[39;00m\n\u001b[1;32m    270\u001b[0m \u001b[38;5;124;03m\"\"\"\u001b[39;00m\n\u001b[1;32m    271\u001b[0m \u001b[38;5;28;01mwith\u001b[39;00m tf\u001b[38;5;241m.\u001b[39mname_scope(mcmc_util\u001b[38;5;241m.\u001b[39mmake_name(\n\u001b[1;32m    272\u001b[0m     \u001b[38;5;28mself\u001b[39m\u001b[38;5;241m.\u001b[39mname, \u001b[38;5;124m'\u001b[39m\u001b[38;5;124mmh\u001b[39m\u001b[38;5;124m'\u001b[39m, \u001b[38;5;124m'\u001b[39m\u001b[38;5;124mbootstrap_results\u001b[39m\u001b[38;5;124m'\u001b[39m)):\n\u001b[0;32m--> 273\u001b[0m   pkr \u001b[38;5;241m=\u001b[39m \u001b[38;5;28;43mself\u001b[39;49m\u001b[38;5;241;43m.\u001b[39;49m\u001b[43minner_kernel\u001b[49m\u001b[38;5;241;43m.\u001b[39;49m\u001b[43mbootstrap_results\u001b[49m\u001b[43m(\u001b[49m\u001b[43minit_state\u001b[49m\u001b[43m)\u001b[49m\n\u001b[1;32m    274\u001b[0m   \u001b[38;5;28;01mif\u001b[39;00m \u001b[38;5;129;01mnot\u001b[39;00m has_target_log_prob(pkr):\n\u001b[1;32m    275\u001b[0m     \u001b[38;5;28;01mraise\u001b[39;00m \u001b[38;5;167;01mValueError\u001b[39;00m(\n\u001b[1;32m    276\u001b[0m         \u001b[38;5;124m'\u001b[39m\u001b[38;5;124m\"\u001b[39m\u001b[38;5;124mtarget_log_prob\u001b[39m\u001b[38;5;124m\"\u001b[39m\u001b[38;5;124m must be a member of `inner_kernel` results.\u001b[39m\u001b[38;5;124m'\u001b[39m)\n",
      "File \u001b[0;32m~/Anaconda33/envs/igwn-py39-lw/lib/python3.9/site-packages/tensorflow_probability/python/mcmc/random_walk_metropolis.py:541\u001b[0m, in \u001b[0;36mUncalibratedRandomWalk.bootstrap_results\u001b[0;34m(self, init_state)\u001b[0m\n\u001b[1;32m    539\u001b[0m   init_state \u001b[38;5;241m=\u001b[39m [init_state]\n\u001b[1;32m    540\u001b[0m init_state \u001b[38;5;241m=\u001b[39m [tf\u001b[38;5;241m.\u001b[39mconvert_to_tensor(x) \u001b[38;5;28;01mfor\u001b[39;00m x \u001b[38;5;129;01min\u001b[39;00m init_state]\n\u001b[0;32m--> 541\u001b[0m init_target_log_prob \u001b[38;5;241m=\u001b[39m \u001b[38;5;28;43mself\u001b[39;49m\u001b[38;5;241;43m.\u001b[39;49m\u001b[43mtarget_log_prob_fn\u001b[49m\u001b[43m(\u001b[49m\u001b[38;5;241;43m*\u001b[39;49m\u001b[43minit_state\u001b[49m\u001b[43m)\u001b[49m  \u001b[38;5;66;03m# pylint:disable=not-callable\u001b[39;00m\n\u001b[1;32m    542\u001b[0m \u001b[38;5;28;01mreturn\u001b[39;00m UncalibratedRandomWalkResults(\n\u001b[1;32m    543\u001b[0m     log_acceptance_correction\u001b[38;5;241m=\u001b[39mtf\u001b[38;5;241m.\u001b[39mzeros_like(init_target_log_prob),\n\u001b[1;32m    544\u001b[0m     target_log_prob\u001b[38;5;241m=\u001b[39minit_target_log_prob,\n\u001b[1;32m    545\u001b[0m     \u001b[38;5;66;03m# Allow room for one_step's seed.\u001b[39;00m\n\u001b[1;32m    546\u001b[0m     seed\u001b[38;5;241m=\u001b[39msamplers\u001b[38;5;241m.\u001b[39mzeros_seed())\n",
      "Input \u001b[0;32mIn [42]\u001b[0m, in \u001b[0;36m<lambda>\u001b[0;34m(x)\u001b[0m\n\u001b[1;32m      1\u001b[0m chirp_mass_prior \u001b[38;5;241m=\u001b[39m tfd\u001b[38;5;241m.\u001b[39mUniform(\u001b[38;5;241m25.\u001b[39m, \u001b[38;5;241m35.\u001b[39m)\n\u001b[0;32m----> 2\u001b[0m model_logprob \u001b[38;5;241m=\u001b[39m \u001b[38;5;28;01mlambda\u001b[39;00m x: \u001b[43mtarget_log_prob\u001b[49m\u001b[43m(\u001b[49m\u001b[43mx\u001b[49m\u001b[43m)\u001b[49m \u001b[38;5;241m+\u001b[39m chirp_mass_prior\u001b[38;5;241m.\u001b[39mlog_prob(x)\n\u001b[1;32m      3\u001b[0m init_state \u001b[38;5;241m=\u001b[39m chirp_mass_prior\u001b[38;5;241m.\u001b[39msample()\n",
      "Input \u001b[0;32mIn [36]\u001b[0m, in \u001b[0;36mtarget_log_prob\u001b[0;34m(x)\u001b[0m\n\u001b[1;32m      7\u001b[0m \u001b[38;5;28;01mdef\u001b[39;00m \u001b[38;5;21mtarget_log_prob\u001b[39m(x):\n\u001b[0;32m----> 8\u001b[0m     mean, var\u001b[38;5;241m=\u001b[39m \u001b[43mtf\u001b[49m\u001b[38;5;241;43m.\u001b[39;49m\u001b[43mnn\u001b[49m\u001b[38;5;241;43m.\u001b[39;49m\u001b[43mmoments\u001b[49m\u001b[43m(\u001b[49m\u001b[43mx\u001b[49m\u001b[43m,\u001b[49m\u001b[43m \u001b[49m\u001b[43maxes\u001b[49m\u001b[43m \u001b[49m\u001b[38;5;241;43m=\u001b[39;49m\u001b[43m \u001b[49m\u001b[43m[\u001b[49m\u001b[38;5;241;43m0\u001b[39;49m\u001b[43m,\u001b[49m\u001b[43m \u001b[49m\u001b[38;5;241;43m1\u001b[39;49m\u001b[43m]\u001b[49m\u001b[43m,\u001b[49m\u001b[43m \u001b[49m\u001b[43mkeepdims\u001b[49m\u001b[43m \u001b[49m\u001b[38;5;241;43m=\u001b[39;49m\u001b[43m \u001b[49m\u001b[38;5;28;43;01mTrue\u001b[39;49;00m\u001b[43m)\u001b[49m\n\u001b[1;32m      9\u001b[0m     \u001b[38;5;28;01mreturn\u001b[39;00m \u001b[38;5;241m-\u001b[39mtf\u001b[38;5;241m.\u001b[39mreduce_sum(((\u001b[38;5;241m2\u001b[39m\u001b[38;5;241m*\u001b[39mnp\u001b[38;5;241m.\u001b[39mpi\u001b[38;5;241m*\u001b[39mvar)\u001b[38;5;241m*\u001b[39m\u001b[38;5;241m*\u001b[39m(\u001b[38;5;241m-\u001b[39m\u001b[38;5;241m0.5\u001b[39m))\u001b[38;5;241m*\u001b[39mnp\u001b[38;5;241m.\u001b[39mexp((\u001b[38;5;241m-\u001b[39m(x \u001b[38;5;241m-\u001b[39m mean)\u001b[38;5;241m*\u001b[39m\u001b[38;5;241m*\u001b[39m\u001b[38;5;241m2\u001b[39m)\u001b[38;5;241m/\u001b[39m(\u001b[38;5;241m2\u001b[39m\u001b[38;5;241m*\u001b[39mvar)))\n",
      "File \u001b[0;32m~/Anaconda33/envs/igwn-py39-lw/lib/python3.9/site-packages/tensorflow/python/util/traceback_utils.py:153\u001b[0m, in \u001b[0;36mfilter_traceback.<locals>.error_handler\u001b[0;34m(*args, **kwargs)\u001b[0m\n\u001b[1;32m    151\u001b[0m \u001b[38;5;28;01mexcept\u001b[39;00m \u001b[38;5;167;01mException\u001b[39;00m \u001b[38;5;28;01mas\u001b[39;00m e:\n\u001b[1;32m    152\u001b[0m   filtered_tb \u001b[38;5;241m=\u001b[39m _process_traceback_frames(e\u001b[38;5;241m.\u001b[39m__traceback__)\n\u001b[0;32m--> 153\u001b[0m   \u001b[38;5;28;01mraise\u001b[39;00m e\u001b[38;5;241m.\u001b[39mwith_traceback(filtered_tb) \u001b[38;5;28;01mfrom\u001b[39;00m \u001b[38;5;28mNone\u001b[39m\n\u001b[1;32m    154\u001b[0m \u001b[38;5;28;01mfinally\u001b[39;00m:\n\u001b[1;32m    155\u001b[0m   \u001b[38;5;28;01mdel\u001b[39;00m filtered_tb\n",
      "File \u001b[0;32m~/Anaconda33/envs/igwn-py39-lw/lib/python3.9/site-packages/tensorflow/python/eager/execute.py:54\u001b[0m, in \u001b[0;36mquick_execute\u001b[0;34m(op_name, num_outputs, inputs, attrs, ctx, name)\u001b[0m\n\u001b[1;32m     52\u001b[0m \u001b[38;5;28;01mtry\u001b[39;00m:\n\u001b[1;32m     53\u001b[0m   ctx\u001b[38;5;241m.\u001b[39mensure_initialized()\n\u001b[0;32m---> 54\u001b[0m   tensors \u001b[38;5;241m=\u001b[39m pywrap_tfe\u001b[38;5;241m.\u001b[39mTFE_Py_Execute(ctx\u001b[38;5;241m.\u001b[39m_handle, device_name, op_name,\n\u001b[1;32m     55\u001b[0m                                       inputs, attrs, num_outputs)\n\u001b[1;32m     56\u001b[0m \u001b[38;5;28;01mexcept\u001b[39;00m core\u001b[38;5;241m.\u001b[39m_NotOkStatusException \u001b[38;5;28;01mas\u001b[39;00m e:\n\u001b[1;32m     57\u001b[0m   \u001b[38;5;28;01mif\u001b[39;00m name \u001b[38;5;129;01mis\u001b[39;00m \u001b[38;5;129;01mnot\u001b[39;00m \u001b[38;5;28;01mNone\u001b[39;00m:\n",
      "\u001b[0;31mInvalidArgumentError\u001b[0m: Invalid reduction dimension (0 for input with 0 dimension(s) [Op:Mean]"
     ]
    }
   ],
   "source": [
    "%%time\n",
    "samples = tfp.mcmc.sample_chain(\n",
    "    num_results=500,\n",
    "    num_burnin_steps=100,\n",
    "    current_state=init_state,\n",
    "    kernel=rwmcmc_kernel,\n",
    "    trace_fn=None)"
   ]
  },
  {
   "cell_type": "code",
   "execution_count": null,
   "id": "e32ada8d",
   "metadata": {},
   "outputs": [],
   "source": [
    "az.plot_kde(samples, quantiles=[0.025, 0.5, 0.925], rug=True);"
   ]
  }
 ],
 "metadata": {
  "kernelspec": {
   "display_name": "Python igwn",
   "language": "python",
   "name": "igwn-py39-lw"
  },
  "language_info": {
   "codemirror_mode": {
    "name": "ipython",
    "version": 3
   },
   "file_extension": ".py",
   "mimetype": "text/x-python",
   "name": "python",
   "nbconvert_exporter": "python",
   "pygments_lexer": "ipython3",
   "version": "3.9.10"
  }
 },
 "nbformat": 4,
 "nbformat_minor": 5
}
