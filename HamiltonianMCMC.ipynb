{
 "cells": [
  {
   "cell_type": "code",
   "execution_count": 1,
   "id": "3cc4762b",
   "metadata": {},
   "outputs": [],
   "source": [
    "import numpy as np\n",
    "import pandas as pd\n",
    "\n",
    "import arviz as az\n",
    "import corner\n",
    "\n",
    "import matplotlib.pyplot as plt\n",
    "plt.style.use('seaborn-darkgrid')\n",
    "\n",
    "%matplotlib inline\n",
    "%config InlineBackend.figure_format = 'retina'"
   ]
  },
  {
   "cell_type": "code",
   "execution_count": 2,
   "id": "2537b06e",
   "metadata": {},
   "outputs": [
    {
     "name": "stderr",
     "output_type": "stream",
     "text": [
      "2022-06-09 16:27:55.951397: W tensorflow/stream_executor/platform/default/dso_loader.cc:64] Could not load dynamic library 'libcudart.so.11.0'; dlerror: libcudart.so.11.0: cannot open shared object file: No such file or directory\n",
      "2022-06-09 16:27:55.951464: I tensorflow/stream_executor/cuda/cudart_stub.cc:29] Ignore above cudart dlerror if you do not have a GPU set up on your machine.\n"
     ]
    }
   ],
   "source": [
    "import tensorflow.compat.v2 as tf\n",
    "import tensorflow_probability as tfp\n",
    "\n",
    "tf.enable_v2_behavior()\n",
    "\n",
    "tfd = tfp.distributions\n",
    "tfb = tfp.bijectors"
   ]
  },
  {
   "cell_type": "code",
   "execution_count": 3,
   "id": "b7f8ceb6",
   "metadata": {},
   "outputs": [],
   "source": [
    "import bilby\n",
    "\n",
    "from bilby.core.prior import Uniform\n",
    "from bilby.gw.conversion import convert_to_lal_binary_black_hole_parameters, generate_all_bbh_parameters\n",
    "\n",
    "from gwpy.timeseries import TimeSeries"
   ]
  },
  {
   "cell_type": "code",
   "execution_count": 4,
   "id": "f78ba66a",
   "metadata": {},
   "outputs": [],
   "source": [
    "label = 'GW150914'\n",
    "time_of_event = bilby.gw.utils.get_event_time(label)"
   ]
  },
  {
   "cell_type": "code",
   "execution_count": 5,
   "id": "226de454",
   "metadata": {},
   "outputs": [],
   "source": [
    "H1 = bilby.gw.detector.get_empty_interferometer(\"H1\")\n",
    "L1 = bilby.gw.detector.get_empty_interferometer(\"L1\")"
   ]
  },
  {
   "cell_type": "code",
   "execution_count": 6,
   "id": "cefd3847",
   "metadata": {},
   "outputs": [],
   "source": [
    "H1_data = TimeSeries.fetch_open_data(\"H1\", time_of_event, \n",
    "                                     time_of_event + 2,\n",
    "                                     sample_rate=4096, cache=True)\n",
    "\n",
    "L1_data = TimeSeries.fetch_open_data(\"L1\", time_of_event, \n",
    "                                     time_of_event + 2,\n",
    "                                     sample_rate=4096, cache=True)"
   ]
  },
  {
   "cell_type": "code",
   "execution_count": 7,
   "id": "0616f04d",
   "metadata": {},
   "outputs": [],
   "source": [
    "H1.set_strain_data_from_gwpy_timeseries(H1_data)\n",
    "L1.set_strain_data_from_gwpy_timeseries(L1_data)"
   ]
  },
  {
   "cell_type": "code",
   "execution_count": 8,
   "id": "8362ff6b",
   "metadata": {},
   "outputs": [],
   "source": [
    "interferometers = [H1, L1]"
   ]
  },
  {
   "cell_type": "code",
   "execution_count": 9,
   "id": "7a6c95b8",
   "metadata": {},
   "outputs": [],
   "source": [
    "prior = {}\n",
    "prior['mass_ratio'] = 0.977647\n",
    "prior['a_1'] =  0.0\n",
    "prior['a_2'] =  0.0\n",
    "prior['tilt_1'] =  0.0\n",
    "prior['tilt_2'] =  0.0\n",
    "prior['phi_12'] =  0.0\n",
    "prior['phi_jl'] =  0.0\n",
    "prior['dec'] =  -1.2232\n",
    "prior['ra'] =  2.19432\n",
    "prior['theta_jn'] =  1.89694\n",
    "prior['psi'] =  0.532268\n",
    "prior['luminosity_distance'] = 412.066\n",
    "prior['phase'] =  5.30408\n",
    "prior['geocent_time'] = 1126259462.4146729\n",
    "\n",
    "prior['chirp_mass'] = Uniform(\n",
    "    name='chirp_mass',\n",
    "    latex_label='$M$',\n",
    "    minimum=25.0,\n",
    "    maximum=35.0,\n",
    "    unit='$M_{\\\\odot}$')"
   ]
  },
  {
   "cell_type": "code",
   "execution_count": 10,
   "id": "604b28e5",
   "metadata": {},
   "outputs": [],
   "source": [
    "prior_dict = bilby.core.prior.PriorDict(prior)"
   ]
  },
  {
   "cell_type": "code",
   "execution_count": 11,
   "id": "5f729567",
   "metadata": {},
   "outputs": [],
   "source": [
    "example = prior_dict.sample()"
   ]
  },
  {
   "cell_type": "code",
   "execution_count": 12,
   "id": "e4320cdc",
   "metadata": {},
   "outputs": [],
   "source": [
    "log_p = prior_dict.ln_prob(example)"
   ]
  },
  {
   "cell_type": "code",
   "execution_count": 13,
   "id": "39ea827b",
   "metadata": {},
   "outputs": [
    {
     "name": "stderr",
     "output_type": "stream",
     "text": [
      "16:28 bilby INFO    : Waveform generator initiated with\n",
      "  frequency_domain_source_model: bilby.gw.source.lal_binary_black_hole\n",
      "  time_domain_source_model: None\n",
      "  parameter_conversion: bilby.gw.conversion.convert_to_lal_binary_black_hole_parameters\n"
     ]
    }
   ],
   "source": [
    "waveform_arguments = dict(waveform_approximant='IMRPhenomPv2',\n",
    "                          reference_frequency=100.)\n",
    "\n",
    "waveform_generator = bilby.gw.WaveformGenerator(\n",
    "    frequency_domain_source_model=bilby.gw.source.lal_binary_black_hole,\n",
    "    waveform_arguments=waveform_arguments,\n",
    "    parameter_conversion=convert_to_lal_binary_black_hole_parameters)"
   ]
  },
  {
   "cell_type": "code",
   "execution_count": 14,
   "id": "932133d9",
   "metadata": {},
   "outputs": [],
   "source": [
    "likelihood = bilby.gw.likelihood.GravitationalWaveTransient(\n",
    "    interferometers,\n",
    "    waveform_generator,\n",
    "    priors=prior)"
   ]
  },
  {
   "cell_type": "code",
   "execution_count": 15,
   "id": "a4d1587f",
   "metadata": {},
   "outputs": [],
   "source": [
    "w = waveform_generator.frequency_domain_strain(example)"
   ]
  },
  {
   "cell_type": "code",
   "execution_count": 16,
   "id": "09e7ec3d",
   "metadata": {},
   "outputs": [
    {
     "name": "stderr",
     "output_type": "stream",
     "text": [
      "/home/auratrik/Anaconda33/envs/igwn-py39-lw/lib/python3.9/site-packages/matplotlib/cbook/__init__.py:1333: ComplexWarning: Casting complex values to real discards the imaginary part\n",
      "  return np.asarray(x, float)\n"
     ]
    },
    {
     "data": {
      "text/plain": [
       "[<matplotlib.lines.Line2D at 0x7f01e4f98d90>]"
      ]
     },
     "execution_count": 16,
     "metadata": {},
     "output_type": "execute_result"
    },
    {
     "data": {
      "image/png": "[encoded data removed]",
      "text/plain": [
       "<Figure size 432x288 with 1 Axes>"
      ]
     },
     "metadata": {
      "image/png": {
       "height": 260,
       "width": 366
      },
      "needs_background": "light"
     },
     "output_type": "display_data"
    }
   ],
   "source": [
    "plt.plot(w['plus'])"
   ]
  },
  {
   "cell_type": "code",
   "execution_count": 17,
   "id": "f346053b",
   "metadata": {},
   "outputs": [
    {
     "name": "stderr",
     "output_type": "stream",
     "text": [
      "16:28 bilby INFO    : Generating frequency domain strain from given time domain strain.\n",
      "16:28 bilby INFO    : Applying a tukey window with alpha=0.2, roll off=0.2\n",
      "16:28 bilby INFO    : Generating frequency domain strain from given time domain strain.\n",
      "16:28 bilby INFO    : Applying a tukey window with alpha=0.2, roll off=0.2\n"
     ]
    }
   ],
   "source": [
    "likelihood.parameters.update(example)\n",
    "log_l = likelihood.log_likelihood() \n",
    "log_post = log_p + log_l"
   ]
  },
  {
   "cell_type": "code",
   "execution_count": 18,
   "id": "3c317dc6",
   "metadata": {},
   "outputs": [
    {
     "name": "stdout",
     "output_type": "stream",
     "text": [
      "-153541376.1091635\n"
     ]
    }
   ],
   "source": [
    "print(log_post)"
   ]
  },
  {
   "cell_type": "markdown",
   "id": "aa68dcb1",
   "metadata": {},
   "source": [
    "ndim = 3\n",
    "nsample, nchain = 500, 5\n",
    "\n",
    "def target_log_prob(x):\n",
    "    #mean, var= tf.nn.moments(x, axes = [0, 1], keepdims = True)\n",
    "    #return -tf.reduce_sum(((2*np.pi*var)**(-0.5))*np.exp((-(x - mean)**2)/(2*var)))\n",
    "    return tf.convert_to_tensor(log_post)\n",
    "\n",
    "hmc_kernel = tfp.mcmc.HamiltonianMonteCarlo(\n",
    "    target_log_prob_fn=target_log_prob,\n",
    "    num_leapfrog_steps=3,\n",
    "    step_size=.25)\n",
    "\n",
    "samples, is_accepted = tfp.mcmc.sample_chain(\n",
    "    kernel=hmc_kernel,\n",
    "    num_results=nsample,\n",
    "    num_burnin_steps=50,\n",
    "    trace_fn=lambda _, pkr: pkr.is_accepted,\n",
    "    current_state=tf.zeros([nchain, ndim]))\n",
    "\n",
    "for i in range(ndim):\n",
    "  plt.plot(samples[..., i], alpha=.25, color=f'C{i}');\n"
   ]
  },
  {
   "cell_type": "code",
   "execution_count": 19,
   "id": "00154555",
   "metadata": {},
   "outputs": [
    {
     "name": "stderr",
     "output_type": "stream",
     "text": [
      "16:28 bilby INFO    : Running for label 'GW150914', output will be saved to 'short_mc_only'\n"
     ]
    },
    {
     "ename": "AttributeError",
     "evalue": "'float' object has no attribute 'marginalized_parameters'",
     "output_type": "error",
     "traceback": [
      "\u001b[0;31m---------------------------------------------------------------------------\u001b[0m",
      "\u001b[0;31mAttributeError\u001b[0m                            Traceback (most recent call last)",
      "Input \u001b[0;32mIn [19]\u001b[0m, in \u001b[0;36m<module>\u001b[0;34m\u001b[0m\n\u001b[0;32m----> 1\u001b[0m result_mc \u001b[38;5;241m=\u001b[39m \u001b[43mbilby\u001b[49m\u001b[38;5;241;43m.\u001b[39;49m\u001b[43mrun_sampler\u001b[49m\u001b[43m(\u001b[49m\u001b[43mlog_l\u001b[49m\u001b[43m,\u001b[49m\n\u001b[1;32m      2\u001b[0m \u001b[43m                              \u001b[49m\u001b[43mlog_p\u001b[49m\u001b[43m,\u001b[49m\n\u001b[1;32m      3\u001b[0m \u001b[43m                              \u001b[49m\u001b[43msampler\u001b[49m\u001b[38;5;241;43m=\u001b[39;49m\u001b[38;5;124;43m'\u001b[39;49m\u001b[38;5;124;43mdynesty\u001b[39;49m\u001b[38;5;124;43m'\u001b[39;49m\u001b[43m,\u001b[49m\n\u001b[1;32m      4\u001b[0m \u001b[43m                              \u001b[49m\u001b[43moutdir\u001b[49m\u001b[38;5;241;43m=\u001b[39;49m\u001b[38;5;124;43m'\u001b[39;49m\u001b[38;5;124;43mshort_mc_only\u001b[39;49m\u001b[38;5;124;43m'\u001b[39;49m\u001b[43m,\u001b[49m\n\u001b[1;32m      5\u001b[0m \u001b[43m                              \u001b[49m\u001b[43mwalks\u001b[49m\u001b[38;5;241;43m=\u001b[39;49m\u001b[38;5;241;43m5\u001b[39;49m\u001b[43m,\u001b[49m\n\u001b[1;32m      6\u001b[0m \u001b[43m                              \u001b[49m\u001b[43mnlive\u001b[49m\u001b[38;5;241;43m=\u001b[39;49m\u001b[38;5;241;43m50\u001b[39;49m\u001b[43m,\u001b[49m\n\u001b[1;32m      7\u001b[0m \u001b[43m                              \u001b[49m\u001b[43mlabel\u001b[49m\u001b[38;5;241;43m=\u001b[39;49m\u001b[43mlabel\u001b[49m\u001b[43m)\u001b[49m\n",
      "File \u001b[0;32m~/Anaconda33/envs/igwn-py39-lw/lib/python3.9/site-packages/bilby/core/sampler/__init__.py:162\u001b[0m, in \u001b[0;36mrun_sampler\u001b[0;34m(likelihood, priors, label, outdir, sampler, use_ratio, injection_parameters, conversion_function, plot, default_priors_file, clean, meta_data, save, gzip, result_class, npool, **kwargs)\u001b[0m\n\u001b[1;32m    159\u001b[0m \u001b[38;5;28;01mif\u001b[39;00m priors \u001b[38;5;129;01mis\u001b[39;00m \u001b[38;5;28;01mNone\u001b[39;00m:\n\u001b[1;32m    160\u001b[0m     priors \u001b[38;5;241m=\u001b[39m \u001b[38;5;28mdict\u001b[39m()\n\u001b[0;32m--> 162\u001b[0m \u001b[43m_check_marginalized_parameters_not_sampled\u001b[49m\u001b[43m(\u001b[49m\u001b[43mlikelihood\u001b[49m\u001b[43m,\u001b[49m\u001b[43m \u001b[49m\u001b[43mpriors\u001b[49m\u001b[43m)\u001b[49m\n\u001b[1;32m    164\u001b[0m \u001b[38;5;28;01mif\u001b[39;00m \u001b[38;5;28mtype\u001b[39m(priors) \u001b[38;5;129;01min\u001b[39;00m [\u001b[38;5;28mdict\u001b[39m, OrderedDict]:\n\u001b[1;32m    165\u001b[0m     priors \u001b[38;5;241m=\u001b[39m PriorDict(priors)\n",
      "File \u001b[0;32m~/Anaconda33/envs/igwn-py39-lw/lib/python3.9/site-packages/bilby/core/sampler/__init__.py:286\u001b[0m, in \u001b[0;36m_check_marginalized_parameters_not_sampled\u001b[0;34m(likelihood, priors)\u001b[0m\n\u001b[1;32m    285\u001b[0m \u001b[38;5;28;01mdef\u001b[39;00m \u001b[38;5;21m_check_marginalized_parameters_not_sampled\u001b[39m(likelihood, priors):\n\u001b[0;32m--> 286\u001b[0m     \u001b[38;5;28;01mfor\u001b[39;00m key \u001b[38;5;129;01min\u001b[39;00m \u001b[43mlikelihood\u001b[49m\u001b[38;5;241;43m.\u001b[39;49m\u001b[43mmarginalized_parameters\u001b[49m:\n\u001b[1;32m    287\u001b[0m         \u001b[38;5;28;01mif\u001b[39;00m key \u001b[38;5;129;01min\u001b[39;00m priors:\n\u001b[1;32m    288\u001b[0m             \u001b[38;5;28;01mif\u001b[39;00m \u001b[38;5;129;01mnot\u001b[39;00m \u001b[38;5;28misinstance\u001b[39m(priors[key], (\u001b[38;5;28mfloat\u001b[39m, DeltaFunction)):\n",
      "\u001b[0;31mAttributeError\u001b[0m: 'float' object has no attribute 'marginalized_parameters'"
     ]
    }
   ],
   "source": [
    "result_mc = bilby.run_sampler(log_l,\n",
    "                              log_p,\n",
    "                              sampler='dynesty',\n",
    "                              outdir='short_mc_only',\n",
    "                              walks=5,\n",
    "                              nlive=50,\n",
    "                              label=label)"
   ]
  }
 ],
 "metadata": {
  "kernelspec": {
   "display_name": "Python igwn",
   "language": "python",
   "name": "igwn-py39-lw"
  },
  "language_info": {
   "codemirror_mode": {
    "name": "ipython",
    "version": 3
   },
   "file_extension": ".py",
   "mimetype": "text/x-python",
   "name": "python",
   "nbconvert_exporter": "python",
   "pygments_lexer": "ipython3",
   "version": "3.9.10"
  }
 },
 "nbformat": 4,
 "nbformat_minor": 5
}
